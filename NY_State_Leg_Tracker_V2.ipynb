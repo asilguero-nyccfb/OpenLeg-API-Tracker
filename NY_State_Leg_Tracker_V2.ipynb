{
 "cells": [
  {
   "cell_type": "code",
   "execution_count": 20,
   "metadata": {},
   "outputs": [],
   "source": [
    "import requests\n",
    "import json\n",
    "import pandas as pd\n",
    "from datetime import datetime"
   ]
  },
  {
   "cell_type": "code",
   "execution_count": 21,
   "metadata": {},
   "outputs": [],
   "source": [
    "# Replace with your actual API key\n",
    "api_key = \"XLC9cIQDZOgmCiMCT43D1umf6VeOFuGU\"\n",
    "\n",
    "# Base URL for the API\n",
    "base_url = \"https://legislation.nysenate.gov/api/3/bills/\"\n",
    "\n",
    "# mapping columns to city tracker\n",
    "column_mappings = {\n",
    "    \"Last Updated\": None,  # date tracker is exported\n",
    "    \"Bill Number\": \"basePrintNoStr\",\n",
    "    \"Date Introed\": \"publishedDateTime\",  # this date will be reformatted\n",
    "    \"Automated Status\": \"status_statusType\",\n",
    "    \"Sponsor\": \"sponsor_member_fullName\",\n",
    "    \"Co Sponsor Count\": None,  # result.amendments.items..coSponsors.size\n",
    "    \"Co Sponsor Count Change\": None,  # \n",
    "    \"Bill Last Changed\": \"status_actionDate\",\n",
    "    \"Summary\": \"summary\",\n",
    "    \"Committee\": \"status_committeeName\",\n",
    "    \"Co Sponsors\": None,  # \n",
    "    \"Notes\": None,  # \n",
    "    \"Laws Impacted\": None,  #result.amendments.items..relatedLaws.items.AMEND.items\n",
    "    \"MatterTypeName\": None,  # \n",
    "    \"Priority Level\": None  #\n",
    "}\n",
    "\n",
    "# ADD a filter for state committee"
   ]
  },
  {
   "cell_type": "code",
   "execution_count": 22,
   "metadata": {},
   "outputs": [],
   "source": [
    "def fetch_bills_by_year(api_key, session_year):\n",
    "    \"\"\"\n",
    "    Fetch bills for a given session year from the NY Senate API.\n",
    "    \"\"\"\n",
    "    url = f\"{base_url}{session_year}?key={api_key}\"\n",
    "\n",
    "    try:\n",
    "        response = requests.get(url)\n",
    "\n",
    "        # Check if the request was successful (status code 200)\n",
    "        if response.status_code == 200:\n",
    "            bill_data = response.json()\n",
    "\n",
    "            if bill_data.get(\"result\") and bill_data[\"result\"].get(\"items\"):\n",
    "                print(f\"Fetched {len(bill_data['result']['items'])} bills for the {session_year} session.\")\n",
    "                return bill_data\n",
    "            else:\n",
    "                print(f\"No bills found for session year {session_year}.\")\n",
    "                return None\n",
    "        else:\n",
    "            print(f\"Failed to retrieve bills. Status code: {response.status_code}\")\n",
    "            print(f\"Response: {response.text}\")\n",
    "            return None\n",
    "    except requests.exceptions.RequestException as e:\n",
    "        print(f\"Error fetching data: {e}\")\n",
    "        return None"
   ]
  },
  {
   "cell_type": "code",
   "execution_count": 23,
   "metadata": {},
   "outputs": [],
   "source": [
    "def flatten_json(nested_json, parent_key='', sep='_'):\n",
    "    \"\"\"\n",
    "    Flatten a nested JSON into a flat dictionary.\n",
    "    \"\"\"\n",
    "    items = []\n",
    "    for k, v in nested_json.items():\n",
    "        new_key = f\"{parent_key}{sep}{k}\" if parent_key else k\n",
    "        if isinstance(v, dict):\n",
    "            items.extend(flatten_json(v, new_key, sep=sep).items())\n",
    "        elif isinstance(v, list):\n",
    "            for i, item in enumerate(v):\n",
    "                items.extend(flatten_json(item, f\"{new_key}_{i}\", sep=sep).items())\n",
    "        else:\n",
    "            items.append((new_key, v))\n",
    "    return dict(items)"
   ]
  },
  {
   "cell_type": "code",
   "execution_count": 24,
   "metadata": {},
   "outputs": [],
   "source": [
    "def get_column_data(item, column_mappings):\n",
    "    \"\"\"\n",
    "    Create a row of data based on the column mappings.\n",
    "    \"\"\"\n",
    "    row_data = {}\n",
    "\n",
    "    for column, key in column_mappings.items():\n",
    "        if key:\n",
    "            # Check if the key exists in the flattened JSON data and add it to the row\n",
    "            value = item.get(key, \"\")\n",
    "\n",
    "            # If the column is 'Date Introed', format it as 'YYYY-MM-DD'\n",
    "            if column == \"Date Introed\" and value:\n",
    "                try:\n",
    "                    # Convert to date format (YYYY-MM-DD)\n",
    "                    formatted_date = datetime.fromisoformat(value).date()\n",
    "                    row_data[column] = formatted_date\n",
    "                except ValueError:\n",
    "                    row_data[column] = value  # If it can't be converted, leave the original value\n",
    "            else:\n",
    "                row_data[column] = value\n",
    "        else:\n",
    "            # Handle empty columns that need to be calculated or filled manually\n",
    "            row_data[column] = \"\"\n",
    "\n",
    "    return row_data"
   ]
  },
  {
   "cell_type": "code",
   "execution_count": 25,
   "metadata": {},
   "outputs": [],
   "source": [
    "def export_to_excel(bill_data, filename=\"NY_Senate_bills_data\"):\n",
    "    \"\"\"\n",
    "    Export the flattened bill data into an Excel file.\n",
    "    \"\"\"\n",
    "    flattened_data = []\n",
    "\n",
    "    if bill_data and 'result' in bill_data and 'items' in bill_data['result']:\n",
    "        items = bill_data['result']['items']\n",
    "        for item in items:\n",
    "            flattened_item = flatten_json(item)\n",
    "            row_data = get_column_data(flattened_item, column_mappings)\n",
    "            flattened_data.append(row_data)\n",
    "\n",
    "    # Create a DataFrame\n",
    "    df = pd.DataFrame(flattened_data)\n",
    "\n",
    "    # Export the data to Excel\n",
    "    if not df.empty:\n",
    "        timestamp = datetime.now().strftime(\"%Y%m%d_%H%M%S\")\n",
    "        filename = f\"{filename}_{timestamp}.xlsx\"\n",
    "        df.to_excel(filename, index=False)\n",
    "        print(f\"Data exported to {filename}\")\n",
    "    else:\n",
    "        print(\"No data to export to Excel.\")"
   ]
  },
  {
   "cell_type": "code",
   "execution_count": 26,
   "metadata": {},
   "outputs": [
    {
     "name": "stdout",
     "output_type": "stream",
     "text": [
      "Fetched 50 bills for the 2025 session.\n",
      "Data exported to bills_data_20250319_190738.xlsx\n"
     ]
    }
   ],
   "source": [
    "def main():\n",
    "    session_year = 2025  # Specify the session year (e.g., 2023)\n",
    "    bill_data = fetch_bills_by_year(api_key, session_year)\n",
    "\n",
    "    if bill_data:\n",
    "        # Export the flattened data to Excel\n",
    "        export_to_excel(bill_data)\n",
    "    else:\n",
    "        print(\"No data retrieved from the API.\")\n",
    "\n",
    "if __name__ == \"__main__\":\n",
    "    main()"
   ]
  }
 ],
 "metadata": {
  "kernelspec": {
   "display_name": "Python 3",
   "language": "python",
   "name": "python3"
  },
  "language_info": {
   "codemirror_mode": {
    "name": "ipython",
    "version": 3
   },
   "file_extension": ".py",
   "mimetype": "text/x-python",
   "name": "python",
   "nbconvert_exporter": "python",
   "pygments_lexer": "ipython3",
   "version": "3.12.5"
  }
 },
 "nbformat": 4,
 "nbformat_minor": 2
}
