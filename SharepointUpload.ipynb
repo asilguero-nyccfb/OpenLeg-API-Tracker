{
 "cells": [
  {
   "cell_type": "code",
   "execution_count": null,
   "metadata": {},
   "outputs": [],
   "source": [
    "import os\n",
    "from office365.sharepoint.client_context import ClientContext\n",
    "from office365.runtime.auth.user_credential import UserCredential\n",
    "\n",
    "def upload_file():\n",
    "    # Get the SharePoint configuration from environment variables\n",
    "    sharepoint_site_url = os.environ['SHAREPOINT_SITE_URL']\n",
    "    target_folder_relative_url = os.environ['TARGET_FOLDER_RELATIVE_URL']\n",
    "    username = os.environ['SP_USER']\n",
    "    password = os.environ['SP_PASSWORD']\n",
    "    local_file_path = 'src/NY_Senate_bills_data_20250319_191503.xlsx'\n",
    "    name = os.path.basename(local_file_path)\n",
    "\n",
    "    # Create the SharePoint context with your credentials \n",
    "    ctx = ClientContext(sharepoint_site_url).with_credentials(\n",
    "        UserCredential(username, password)\n",
    "    )\n",
    "    target_folder = ctx.web.get_folder_by_server_relative_url(target_folder_relative_url)\n",
    "    \n",
    "    # Open the updated local workbook (which has the updated 'Tracker' sheet)\n",
    "    # and upload the entire workbook to SharePoint.\n",
    "    with open(local_file_path, 'rb') as file_content:\n",
    "        # This uploads the complete file.\n",
    "        target_folder.upload_file(name, file_content.read()).execute_query()\n",
    "    print(f\"{name} uploaded successfully to SharePoint.\")\n",
    "\n",
    "upload_file()"
   ]
  }
 ],
 "metadata": {
  "language_info": {
   "name": "python"
  }
 },
 "nbformat": 4,
 "nbformat_minor": 2
}
