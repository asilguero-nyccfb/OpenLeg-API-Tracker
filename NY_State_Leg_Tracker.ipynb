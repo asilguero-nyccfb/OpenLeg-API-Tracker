{
 "cells": [
  {
   "cell_type": "code",
   "execution_count": 88,
   "metadata": {},
   "outputs": [],
   "source": [
    "import requests\n",
    "import pandas as pd\n",
    "import xlsxwriter\n",
    "from datetime import datetime"
   ]
  },
  {
   "cell_type": "code",
   "execution_count": 89,
   "metadata": {},
   "outputs": [],
   "source": [
    "#API URL\n",
    "base_url = 'https://legislation.nysenate.gov/api/3/bills/search'\n",
    "\n",
    "# API info\n",
    "#api_key = \"XLC9cIQDZOgmCiMCT43D1umf6VeOFuGU\"\n"
   ]
  },
  {
   "cell_type": "code",
   "execution_count": 90,
   "metadata": {},
   "outputs": [],
   "source": [
    "#adding a limit to increase it\n",
    "\n",
    "def fetch_bill_details(api_key, session_year, page=1, term=\"\", limit=25):\n",
    "    \"\"\"\n",
    "    Fetch bill details from the NY Senate API.\n",
    "    \"\"\"\n",
    "    offset = (page - 1) * limit  # Calculate the offset for pagination\n",
    "    url = f\"{base_url}?session_year={session_year}&key={api_key}&page={page}&term={term}&limit={limit}&offset={offset}\"\n",
    "    headers = {'Authorization': f'Token {api_key}'}\n",
    "    \n",
    "    try:\n",
    "        response = requests.get(url, headers=headers)\n",
    "        print(f\"Fetching page {page}...\")\n",
    "        print(f\"Response Status Code: {response.status_code}\")\n",
    "        \n",
    "        # Raise an exception for any non-200 status codes\n",
    "        response.raise_for_status()\n",
    "        \n",
    "        # Debugging: Print the full response structure if no error occurs\n",
    "        print(f\"Response Content: {response.text[:200]}...\")  # Print only the first 200 chars to avoid long outputs\n",
    "        \n",
    "        return response.json()\n",
    "    \n",
    "    except requests.exceptions.RequestException as e:\n",
    "        # If there was an error in the request, print the exception and response content if available\n",
    "        print(f\"Error getting data: {e}\")\n",
    "        if 'response' in locals():\n",
    "            print(f\"Response Content: {response.text}\")  # Print the response body for more details\n",
    "        return None"
   ]
  },
  {
   "cell_type": "code",
   "execution_count": 91,
   "metadata": {},
   "outputs": [],
   "source": [
    "def flatten_bill_data(data, prefix=\"\"):  \n",
    "    \"\"\"\n",
    "    Flatten the JSON response from the API into a flat dictionary.\n",
    "    \"\"\"\n",
    "    flattened = {}\n",
    "    for key, value in data.items():\n",
    "        new_key = f\"{prefix}_{key}\" if prefix else key\n",
    "        if isinstance(value, dict):\n",
    "            flattened.update(flatten_bill_data(value, new_key)) \n",
    "        elif isinstance(value, list):\n",
    "            for i, item in enumerate(value):\n",
    "                if isinstance(item, dict):\n",
    "                    flattened.update(flatten_bill_data(item, f\"{new_key}_{i}\"))  # Flatten each item in the list\n",
    "                else:\n",
    "                    flattened[f\"{new_key}_{i}\"] = item\n",
    "        else:\n",
    "            flattened[new_key] = value\n",
    "    return flattened\n"
   ]
  },
  {
   "cell_type": "code",
   "execution_count": 92,
   "metadata": {},
   "outputs": [],
   "source": [
    "def export_to_excel(bill_data, filename_prefix=\"NY_Senate_Bills_data\"):\n",
    "    \"\"\"\n",
    "    Export the bill data to an Excel file.\n",
    "    \"\"\"\n",
    "    timestamp = datetime.now().strftime(\"%Y%m%d_%H%M%S\")\n",
    "    filename = f\"{filename_prefix}_{timestamp}.xlsx\"\n",
    "\n",
    "    if 'result' in bill_data and 'items' in bill_data['result']:\n",
    "        items = bill_data['result']['items']\n",
    "        flattened_items = []  # List to store flattened bill data\n",
    "\n",
    "        for item in items:  # Flatten each bill item\n",
    "            flattened_data = flatten_bill_data(item)\n",
    "            flattened_items.append(flattened_data)\n",
    "\n",
    "        df = pd.DataFrame(flattened_items)  # Create DataFrame from the list of flattened dictionaries\n",
    "\n",
    "        if not df.empty:\n",
    "            with pd.ExcelWriter(filename, engine='xlsxwriter') as writer:\n",
    "                df.to_excel(writer, index=False, sheet_name='Bills')\n",
    "                print(f\"Data has been exported to {filename}\")\n",
    "        else:\n",
    "            print(\"No data to export to Excel.\")\n",
    "    else:\n",
    "        print(\"'result.items' not found in the API response or is empty.\")"
   ]
  },
  {
   "cell_type": "code",
   "execution_count": 93,
   "metadata": {},
   "outputs": [],
   "source": [
    "def fetch_all_bills(api_key, session_year, term=\"\", limit=25):\n",
    "    \"\"\"\n",
    "    Fetch all bills using pagination.\n",
    "    \"\"\"\n",
    "    all_bills = []\n",
    "    page = 1\n",
    "    while True:\n",
    "        bill_data = fetch_bill_details(api_key, session_year, page, term, limit)\n",
    "        \n",
    "        if bill_data and 'result' in bill_data and 'items' in bill_data['result']:\n",
    "            items = bill_data['result']['items']\n",
    "            if not items:\n",
    "                break  # No more data to fetch\n",
    "            all_bills.extend(items)\n",
    "            page += 1  # Move to the next page\n",
    "        else:\n",
    "            print(\"No more data available or error encountered.\")\n",
    "            break\n",
    "\n",
    "    return all_bills"
   ]
  },
  {
   "cell_type": "code",
   "execution_count": 94,
   "metadata": {},
   "outputs": [],
   "source": [
    "# Main execution\n",
    "session_year = 2022\n",
    "api_key = \"XLC9cIQDZOgmCiMCT43D1umf6VeOFuGU\""
   ]
  },
  {
   "cell_type": "code",
   "execution_count": 95,
   "metadata": {},
   "outputs": [
    {
     "name": "stdout",
     "output_type": "stream",
     "text": [
      "Fetching page 1...\n",
      "Response Status Code: 200\n",
      "Response Content: {\n",
      "  \"success\" : true,\n",
      "  \"message\" : \"\",\n",
      "  \"responseType\" : \"empty list\",\n",
      "  \"total\" : 0,\n",
      "  \"offsetStart\" : 1,\n",
      "  \"offsetEnd\" : 0,\n",
      "  \"limit\" : 25,\n",
      "  \"result\" : {\n",
      "    \"items\" : [ ],\n",
      "    \"size\" : 0\n",
      "  }\n",
      "}...\n",
      "No data retrieved from the API.\n"
     ]
    }
   ],
   "source": [
    "# Fetch all bills\n",
    "all_bills = fetch_all_bills(api_key, session_year)\n",
    "\n",
    "if all_bills:\n",
    "    print(f\"Fetched {len(all_bills)} bills in total.\")\n",
    "    export_to_excel({\"result\": {\"items\": all_bills}})  # Pass the list of bills directly for export\n",
    "else:\n",
    "    print(\"No data retrieved from the API.\")"
   ]
  }
 ],
 "metadata": {
  "kernelspec": {
   "display_name": "Python 3",
   "language": "python",
   "name": "python3"
  },
  "language_info": {
   "codemirror_mode": {
    "name": "ipython",
    "version": 3
   },
   "file_extension": ".py",
   "mimetype": "text/x-python",
   "name": "python",
   "nbconvert_exporter": "python",
   "pygments_lexer": "ipython3",
   "version": "3.12.5"
  }
 },
 "nbformat": 4,
 "nbformat_minor": 2
}
