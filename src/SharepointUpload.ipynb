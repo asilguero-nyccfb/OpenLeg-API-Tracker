{
 "cells": [
  {
   "cell_type": "code",
   "execution_count": null,
   "metadata": {},
   "outputs": [],
   "source": [
    "import os\n",
    "import glob\n",
    "from office365.sharepoint.client_context import ClientContext\n",
    "\n",
    "def find_latest_file(directory, pattern):\n",
    "    \"\"\"\n",
    "    Searches the specified directory for files matching the given pattern\n",
    "    and returns the file with the most recent creation time.\n",
    "    \"\"\"\n",
    "    files = glob.glob(os.path.join(directory, pattern))\n",
    "    if not files:\n",
    "        raise ValueError(f\"No files found matching pattern: {pattern}\")\n",
    "    latest_file = max(files, key=os.path.getctime)\n",
    "    return latest_file\n",
    "\n",
    "def upload_file():\n",
    "    # Get SharePoint configuration from environment variables\n",
    "    sharepoint_site_url = os.environ['SHAREPOINT_SITE_URL']\n",
    "    target_folder_relative_url = os.environ['TARGET_FOLDER_RELATIVE_URL']\n",
    "    \n",
    "    # Use app-based authentication if SP_CLIENT_ID and SP_CLIENT_SECRET are provided,\n",
    "    # otherwise fall back to user credentials.\n",
    "    client_id = os.environ.get('SP_CLIENT_ID')\n",
    "    client_secret = os.environ.get('SP_CLIENT_SECRET')\n",
    "    \n",
    "    if client_id and client_secret:\n",
    "        from office365.runtime.auth.client_credential import ClientCredential\n",
    "        credentials = ClientCredential(client_id, client_secret)\n",
    "        ctx = ClientContext(sharepoint_site_url).with_credentials(credentials)\n",
    "    else:\n",
    "        username = os.environ['SP_USER']\n",
    "        password = os.environ['SP_PASSWORD']\n",
    "        from office365.runtime.auth.user_credential import UserCredential\n",
    "        ctx = ClientContext(sharepoint_site_url).with_credentials(UserCredential(username, password))\n",
    "    \n",
    "    # Find the latest Excel file in the 'src' folder with the timestamped name\n",
    "    local_file_path = find_latest_file('src', 'NY_Senate_bills_data_*.xlsx')\n",
    "    file_name = os.path.basename(local_file_path)\n",
    "    print(f\"Uploading file: {file_name}\")\n",
    "    \n",
    "    target_folder = ctx.web.get_folder_by_server_relative_url(target_folder_relative_url)\n",
    "    \n",
    "    with open(local_file_path, 'rb') as file_content:\n",
    "        target_folder.upload_file(file_name, file_content.read()).execute_query()\n",
    "    \n",
    "    print(f\"{file_name} uploaded successfully to SharePoint.\")\n",
    "\n",
    "upload_file()\n"
   ]
  }
 ],
 "metadata": {
  "language_info": {
   "name": "python"
  }
 },
 "nbformat": 4,
 "nbformat_minor": 2
}
