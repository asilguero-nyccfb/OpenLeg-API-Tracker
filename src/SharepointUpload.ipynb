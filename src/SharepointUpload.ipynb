{
 "cells": [
  {
   "cell_type": "code",
   "execution_count": null,
   "metadata": {},
   "outputs": [],
   "source": [
    "import os\n",
    "from datetime import datetime\n",
    "from office365.sharepoint.client_context import ClientContext # type: ignore\n",
    "from office365.sharepoint.files.file import File # type: ignore"
   ]
  },
  {
   "cell_type": "code",
   "execution_count": null,
   "metadata": {},
   "outputs": [],
   "source": [
    "# Function to authenticate with SharePoint using username and password\n",
    "def authenticate_with_sharepoint(site_url, username, password):\n",
    "    ctx = ClientContext(site_url).with_credentials(username, password)\n",
    "    return ctx\n"
   ]
  },
  {
   "cell_type": "code",
   "execution_count": null,
   "metadata": {},
   "outputs": [],
   "source": [
    "# Function to upload file to SharePoint\n",
    "def upload_to_sharepoint(ctx, folder_path, filename, file_content):\n",
    "    target_folder = ctx.web.get_folder_by_server_relative_url(folder_path)\n",
    "    target_file = target_folder.upload_file(filename, file_content)\n",
    "    ctx.execute_query()\n",
    "    return target_file"
   ]
  },
  {
   "cell_type": "code",
   "execution_count": null,
   "metadata": {},
   "outputs": [],
   "source": [
    "# Main function to upload the export\n",
    "def main():\n",
    "    site_url = \"https://nyccfb.sharepoint.com/sites/CFBStaff\"  # Your site URL\n",
    "    folder_path = '/sites/CFBStaff/Shared Documents/Intergov/Legislative Trackers'  # Folder path in SharePoint\n",
    "    username = os.getenv('SP_USER')  # SharePoint username\n",
    "    password = os.getenv('SP_PASSWORD')  # SharePoint password\n",
    "\n",
    "    # Get the current date and time for the filename\n",
    "    current_date = datetime.now().strftime(\"%Y-%m-%d_%H-%M-%S\")  # Format: YYYY-MM-DD_HH-MM-SS\n",
    "    filename = f\"NY_State_Leg_Tracker_{current_date}.csv\"  # Add date to filename\n",
    "\n",
    "    # Specify the path to your output file\n",
    "    file_content = open(f'output/NY_State_Leg_Tracker_V2_output.csv', 'rb').read()  # Adjust to your output file path\n",
    "\n",
    "    # Authenticate with SharePoint and upload the file\n",
    "    ctx = authenticate_with_sharepoint(site_url, username, password)\n",
    "    uploaded_file = upload_to_sharepoint(ctx, folder_path, filename, file_content)\n",
    "\n",
    "    print(\"File uploaded successfully:\", uploaded_file.properties)\n",
    "\n",
    "if __name__ == \"__main__\":\n",
    "    main()"
   ]
  }
 ],
 "metadata": {
  "language_info": {
   "name": "python"
  }
 },
 "nbformat": 4,
 "nbformat_minor": 2
}
